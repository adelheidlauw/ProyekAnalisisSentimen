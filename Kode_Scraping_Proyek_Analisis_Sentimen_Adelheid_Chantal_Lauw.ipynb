{
  "nbformat": 4,
  "nbformat_minor": 0,
  "metadata": {
    "colab": {
      "provenance": []
    },
    "kernelspec": {
      "name": "python3",
      "display_name": "Python 3"
    },
    "language_info": {
      "name": "python"
    }
  },
  "cells": [
    {
      "cell_type": "markdown",
      "source": [
        "# Import Pustaka dan Library"
      ],
      "metadata": {
        "id": "T1ZerU6ddxR7"
      }
    },
    {
      "cell_type": "code",
      "execution_count": 1,
      "metadata": {
        "colab": {
          "base_uri": "https://localhost:8080/"
        },
        "id": "xQhmOIiedFGc",
        "outputId": "32c2ca80-2f00-409e-9c50-32b641158b4c"
      },
      "outputs": [
        {
          "output_type": "stream",
          "name": "stdout",
          "text": [
            "Collecting google-play-scraper\n",
            "  Downloading google_play_scraper-1.2.7-py3-none-any.whl.metadata (50 kB)\n",
            "\u001b[?25l     \u001b[90m━━━━━━━━━━━━━━━━━━━━━━━━━━━━━━━━━━━━━━━━\u001b[0m \u001b[32m0.0/50.2 kB\u001b[0m \u001b[31m?\u001b[0m eta \u001b[36m-:--:--\u001b[0m\r\u001b[2K     \u001b[90m━━━━━━━━━━━━━━━━━━━━━━━━━━━━━━━━━━━━━━━━\u001b[0m \u001b[32m50.2/50.2 kB\u001b[0m \u001b[31m1.6 MB/s\u001b[0m eta \u001b[36m0:00:00\u001b[0m\n",
            "\u001b[?25hDownloading google_play_scraper-1.2.7-py3-none-any.whl (28 kB)\n",
            "Installing collected packages: google-play-scraper\n",
            "Successfully installed google-play-scraper-1.2.7\n"
          ]
        }
      ],
      "source": [
        "!pip install google-play-scraper\n",
        "\n",
        "from google_play_scraper import app, reviews_all, Sort\n",
        "import pandas as pd\n",
        "pd.options.mode.chained_assignment = None\n",
        "import numpy as np\n",
        "seed = 0\n",
        "np.random.seed(seed)\n",
        "import matplotlib.pyplot as plt"
      ]
    },
    {
      "cell_type": "markdown",
      "source": [
        "# Scraping"
      ],
      "metadata": {
        "id": "6wnt5Gy9gEaR"
      }
    },
    {
      "cell_type": "code",
      "source": [
        "# Fungsi untuk mengambil ulasan dari Google Play Store berdasarkan ID aplikasi tertentu.\n",
        "def scrape_reviews(app_id):\n",
        "    try:\n",
        "        # Mengambil semua ulasan dari aplikasi menggunakan google_play_scraper.\n",
        "        reviews = reviews_all(\n",
        "            app_id,\n",
        "            sleep_milliseconds=0,  # Waktu tunggu antara permintaan (dalam milidetik)\n",
        "            sort=Sort.MOST_RELEVANT,\n",
        "            count=15000\n",
        "        )\n",
        "\n",
        "        return reviews\n",
        "\n",
        "    except Exception as e:\n",
        "        print(f\"Error occurred: {e}\")\n",
        "        return []\n",
        "\n",
        "# Contoh penggunaan fungsi scrape_reviews dengan ID aplikasi Grab (g.co/Grab).\n",
        "app_id = 'com.grabtaxi.passenger'  # Ganti dengan ID aplikasi yang diinginkan.\n",
        "reviews_data = scrape_reviews(app_id)\n",
        "\n",
        "# Mengubah hasil menjadi DataFrame Pandas agar lebih mudah dianalisis.\n",
        "data_reviews = pd.DataFrame(reviews_data)\n",
        "\n",
        "# Menyimpan DataFrame ke dalam file CSV jika diperlukan.\n",
        "data_reviews.to_csv('Grab_app_reviews.csv', index=False)\n",
        "\n",
        "print(\"Scraping selesai.\")"
      ],
      "metadata": {
        "colab": {
          "base_uri": "https://localhost:8080/"
        },
        "id": "QWhI7SP5eStI",
        "outputId": "4c86d4e7-1e62-4b11-c20d-eaff58b3a130"
      },
      "execution_count": 4,
      "outputs": [
        {
          "output_type": "stream",
          "name": "stdout",
          "text": [
            "Scraping selesai.\n"
          ]
        }
      ]
    }
  ]
}